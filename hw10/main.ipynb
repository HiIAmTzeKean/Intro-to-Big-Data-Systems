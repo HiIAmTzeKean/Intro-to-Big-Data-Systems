{
 "cells": [
  {
   "cell_type": "code",
   "execution_count": 1,
   "metadata": {},
   "outputs": [],
   "source": [
    "import pandas as pd\n",
    "\n",
    "card_dict = {}\n",
    "with open('data/card') as f:\n",
    "    for line in f:\n",
    "        id, name, _, _ = line.split(\",\")\n",
    "        card_dict[id] = name\n",
    "\n",
    "acc_dict = {}\n",
    "with open('data/account') as f:\n",
    "    for line in f:\n",
    "        id, name, _, _ = line.split(\",\")\n",
    "        acc_dict[id] = name\n",
    "print(f\"We have {len(card_dict)} cards and {len(acc_dict)} accounts\")\n",
    "df_acc = pd.read_csv('data/account_to_account', sep=\",\", names=[\"src\", \"tgt\",\"_1\", \"amt\", \"strategy\",\"_2\", \"bus\",\"_3\",\"_4\",\"_5\",\"_6\",\"_7\",\"_8\"], header=None)\n",
    "df_acc = df_acc[[\"src\", \"tgt\", \"amt\", \"strategy\", \"bus\"]]\n",
    "df_acc\n",
    "df_card = pd.read_csv('data/account_to_card', sep=\",\", names=[\"src\", \"tgt\",\"_1\", \"amt\", \"strategy\",\"_2\", \"bus\",\"_3\",\"_4\",\"_5\",\"_6\",\"_7\",\"_8\"], header=None)\n",
    "df_card = df_card[[\"src\", \"tgt\", \"amt\", \"strategy\", \"bus\"]]\n",
    "df_card\n",
    "# Look up names in the corresponding files\n",
    "df_card[\"src_name\"] = df_card[\"src\"].apply(lambda x: acc_dict[str(x)])\n",
    "df_card[\"tgt_name\"] = df_card[\"tgt\"].apply(lambda x: card_dict[str(x)])\n",
    "df_acc[\"src_name\"] = df_acc[\"src\"].apply(lambda x: acc_dict[str(x)])\n",
    "df_acc[\"tgt_name\"] = df_acc[\"tgt\"].apply(lambda x: acc_dict[str(x)])\n",
    "# Account to card is 0 and account to account is 1\n",
    "df_card[\"type\"] = 0\n",
    "df_acc[\"type\"] = 1\n",
    "df = pd.concat([df_card, df_acc])\n",
    "df\n",
    "df[\"amt\"] = df[\"amt\"].apply(lambda x: int(float(x)))\n",
    "df[\"strategy\"] = df[\"strategy\"].apply(lambda x: int(x.replace(\"strategy_name-\", \"\")))\n",
    "df[\"bus\"] = df[\"bus\"].apply(lambda x: int(x.replace(\"buscode\", \"\")))\n",
    "# Drop rows that are completely similar\n",
    "df = df.drop_duplicates()\n",
    "# Make edge embeddings\n",
    "df[\"edge\"] = df[\"src_name\"].astype(str) + \"-\" + df[\"tgt_name\"].astype(str) + \"-\" + df[\"type\"].astype(str) + \"-\" + df[\"strategy\"].astype(str) + \"-\" + df[\"bus\"].astype(str) + \"-\" + df[\"amt\"].astype(str)\n",
    "# Count the freuquency of edge embeddings\n",
    "df[\"edge_count\"] = df.groupby(['edge'])[\"src\"].transform('count')\n",
    "# Remove edges that are not frequent enough\n",
    "df = df[df[\"edge_count\"] >= 10000]\n",
    "# Save dataframe as input file\n",
    "df[[\"src\", \"tgt\", \"amt\", \"strategy\", \"bus\", \"src_name\", \"tgt_name\", \"type\"]].to_csv(\"data/full.csv\", index=False)"
   ]
  }
 ],
 "metadata": {
  "kernelspec": {
   "display_name": "Python 3.9.10 ('base')",
   "language": "python",
   "name": "python3"
  },
  "language_info": {
   "codemirror_mode": {
    "name": "ipython",
    "version": 3
   },
   "file_extension": ".py",
   "mimetype": "text/x-python",
   "name": "python",
   "nbconvert_exporter": "python",
   "pygments_lexer": "ipython3",
   "version": "3.9.10"
  },
  "orig_nbformat": 4,
  "vscode": {
   "interpreter": {
    "hash": "bb3f2114c670f5bec2d926b665f3e281beb9796a7e9b7268de55810a8060f8f6"
   }
  }
 },
 "nbformat": 4,
 "nbformat_minor": 2
}
